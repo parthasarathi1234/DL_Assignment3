{
 "cells": [
  {
   "cell_type": "code",
   "execution_count": 1,
   "id": "540eaf2b",
   "metadata": {
    "execution": {
     "iopub.execute_input": "2024-05-14T17:58:47.637140Z",
     "iopub.status.busy": "2024-05-14T17:58:47.635921Z",
     "iopub.status.idle": "2024-05-14T17:58:52.583233Z",
     "shell.execute_reply": "2024-05-14T17:58:52.581726Z"
    },
    "papermill": {
     "duration": 4.955324,
     "end_time": "2024-05-14T17:58:52.586765",
     "exception": false,
     "start_time": "2024-05-14T17:58:47.631441",
     "status": "completed"
    },
    "tags": []
   },
   "outputs": [],
   "source": [
    "import torch\n",
    "from torch import nn\n",
    "import pandas as pd\n",
    "import torch.optim as optim\n",
    "import torch.nn.functional as F\n",
    "from torch.nn.utils.rnn import pad_sequence\n",
    "import copy\n",
    "from torch.utils.data import Dataset, DataLoader\n",
    "import gc\n",
    "import random"
   ]
  },
  {
   "cell_type": "code",
   "execution_count": 2,
   "id": "e8f04845",
   "metadata": {
    "execution": {
     "iopub.execute_input": "2024-05-14T17:58:52.594579Z",
     "iopub.status.busy": "2024-05-14T17:58:52.593928Z",
     "iopub.status.idle": "2024-05-14T17:58:52.601664Z",
     "shell.execute_reply": "2024-05-14T17:58:52.600307Z"
    },
    "papermill": {
     "duration": 0.015309,
     "end_time": "2024-05-14T17:58:52.605342",
     "exception": false,
     "start_time": "2024-05-14T17:58:52.590033",
     "status": "completed"
    },
    "tags": []
   },
   "outputs": [
    {
     "name": "stdout",
     "output_type": "stream",
     "text": [
      "cpu\n"
     ]
    }
   ],
   "source": [
    "device = torch.device(\"cuda\" if torch.cuda.is_available() else \"cpu\")\n",
    "print(device)\n",
    "#Global constants\n",
    "MAX_LENGTH = 40\n",
    "END_TOKEN = '>'\n",
    "START_TOKEN = '<'\n",
    "TEACHER_FORCING_RATIO = 0.5"
   ]
  },
  {
   "cell_type": "code",
   "execution_count": 3,
   "id": "ebd8e72f",
   "metadata": {
    "execution": {
     "iopub.execute_input": "2024-05-14T17:58:52.612151Z",
     "iopub.status.busy": "2024-05-14T17:58:52.611742Z",
     "iopub.status.idle": "2024-05-14T17:58:52.617688Z",
     "shell.execute_reply": "2024-05-14T17:58:52.616200Z"
    },
    "papermill": {
     "duration": 0.012473,
     "end_time": "2024-05-14T17:58:52.620355",
     "exception": false,
     "start_time": "2024-05-14T17:58:52.607882",
     "status": "completed"
    },
    "tags": []
   },
   "outputs": [],
   "source": [
    "train_csv = \"/kaggle/input/aksh11/aksharantar_sampled/hin/hin_train.csv\"\n",
    "test_csv = \"/kaggle/input/aksh11/aksharantar_sampled/hin/hin_test.csv\"\n",
    "val_csv = \"/kaggle/input/aksh11/aksharantar_sampled/hin/hin_valid.csv\""
   ]
  }
 ],
 "metadata": {
  "kaggle": {
   "accelerator": "none",
   "dataSources": [
    {
     "datasetId": 5006246,
     "sourceId": 8411406,
     "sourceType": "datasetVersion"
    },
    {
     "datasetId": 5007554,
     "sourceId": 8413273,
     "sourceType": "datasetVersion"
    }
   ],
   "dockerImageVersionId": 30698,
   "isGpuEnabled": false,
   "isInternetEnabled": true,
   "language": "python",
   "sourceType": "notebook"
  },
  "kernelspec": {
   "display_name": "Python 3",
   "language": "python",
   "name": "python3"
  },
  "language_info": {
   "codemirror_mode": {
    "name": "ipython",
    "version": 3
   },
   "file_extension": ".py",
   "mimetype": "text/x-python",
   "name": "python",
   "nbconvert_exporter": "python",
   "pygments_lexer": "ipython3",
   "version": "3.10.13"
  },
  "papermill": {
   "default_parameters": {},
   "duration": 9.355395,
   "end_time": "2024-05-14T17:58:53.752452",
   "environment_variables": {},
   "exception": null,
   "input_path": "__notebook__.ipynb",
   "output_path": "__notebook__.ipynb",
   "parameters": {},
   "start_time": "2024-05-14T17:58:44.397057",
   "version": "2.5.0"
  }
 },
 "nbformat": 4,
 "nbformat_minor": 5
}
